{
  "cells": [
    {
      "cell_type": "code",
      "execution_count": null,
      "metadata": {
        "colab": {
          "base_uri": "https://localhost:8080/"
        },
        "id": "VhrOnX7oAxOh",
        "outputId": "8ff495fd-7988-4a64-b161-5446dcbc15a6"
      },
      "outputs": [
        {
          "output_type": "stream",
          "name": "stdout",
          "text": [
            "Drive already mounted at /content/drive; to attempt to forcibly remount, call drive.mount(\"/content/drive\", force_remount=True).\n"
          ]
        }
      ],
      "source": [
        "  from google.colab import drive\n",
        "  drive.mount('/content/drive')\n",
        "  shared_folder_path = '/content/drive/My Drive/Colab Notebooks/'\n"
      ]
    },
    {
      "cell_type": "markdown",
      "metadata": {
        "id": "OkCVLc6XdCi3"
      },
      "source": [
        "!pip install swifter\n",
        "!pip install dask[dataframe]\n",
        "!pip install dask\n",
        "!pip install spacy\n",
        "!python -m spacy download en_core_web_sm\n",
        "\n"
      ]
    },
    {
      "cell_type": "markdown",
      "metadata": {
        "id": "KXxcwJN1tSGI"
      },
      "source": []
    },
    {
      "cell_type": "code",
      "execution_count": null,
      "metadata": {
        "id": "70e-ZdprKvhA"
      },
      "outputs": [],
      "source": [
        "#this cell is going to contain all necessary libraries\n",
        "import nltk\n",
        "import re\n",
        "import string\n",
        "import pandas as pd\n",
        "import glob\n",
        "import ast   # to parse stringified lists\n",
        "import os\n",
        "#import dask.dataframe as dd\n",
        "import spacy"
      ]
    },
    {
      "cell_type": "code",
      "execution_count": null,
      "metadata": {
        "colab": {
          "base_uri": "https://localhost:8080/"
        },
        "id": "NgGsbwZ7LC9g",
        "outputId": "7e94fc56-32fd-4b3b-e349-253ecd2aa857"
      },
      "outputs": [
        {
          "output_type": "stream",
          "name": "stderr",
          "text": [
            "[nltk_data] Downloading package punkt to /root/nltk_data...\n",
            "[nltk_data]   Package punkt is already up-to-date!\n",
            "[nltk_data] Downloading package punkt_tab to /root/nltk_data...\n",
            "[nltk_data]   Package punkt_tab is already up-to-date!\n",
            "[nltk_data] Downloading package stopwords to /root/nltk_data...\n",
            "[nltk_data]   Package stopwords is already up-to-date!\n",
            "[nltk_data] Downloading package wordnet to /root/nltk_data...\n",
            "[nltk_data]   Package wordnet is already up-to-date!\n",
            "[nltk_data] Downloading package averaged_perceptron_tagger to\n",
            "[nltk_data]     /root/nltk_data...\n",
            "[nltk_data]   Package averaged_perceptron_tagger is already up-to-\n",
            "[nltk_data]       date!\n"
          ]
        },
        {
          "output_type": "execute_result",
          "data": {
            "text/plain": [
              "True"
            ]
          },
          "metadata": {},
          "execution_count": 4
        }
      ],
      "source": [
        "#the following just download the necessary packages\n",
        "# punkt splits a text into words or sentences\n",
        "nltk.download(\"punkt\")\n",
        "nltk.download(\"punkt_tab\")\n",
        "#to remove stopwords\n",
        "nltk.download(\"stopwords\")\n",
        "#wordnet maps words to their base form (lemmatization)\n",
        "nltk.download(\"wordnet\")\n",
        "nltk.download('averaged_perceptron_tagger')\n"
      ]
    },
    {
      "cell_type": "code",
      "execution_count": null,
      "metadata": {
        "id": "52Vu5wC8LKTe"
      },
      "outputs": [],
      "source": [
        "#to have access to the necessary functions\n",
        "\n",
        "from nltk.tokenize import word_tokenize    #to slit the textx into tokens\n",
        "from nltk.corpus import stopwords           #eliminates the dtopwords\n",
        "from nltk.stem import WordNetLemmatizer     #to lemmatize\n",
        "from nltk.tokenize import sent_tokenize     #to split the sentences from eachother\n",
        "from collections import Counter\n",
        "from textblob import TextBlob\n",
        "from sklearn.feature_extraction.text import TfidfVectorizer\n",
        "from sklearn.model_selection import train_test_split\n",
        "from sklearn.linear_model import LogisticRegression\n",
        "from sklearn.metrics import classification_report, accuracy_score\n",
        "from nltk import pos_tag                 #to be able to tag part-of-speech\n",
        "from nltk.corpus import wordnet\n",
        "from dask import delayed\n",
        "nlp = spacy.load(\"en_core_web_sm\")\n",
        "\n"
      ]
    },
    {
      "cell_type": "code",
      "execution_count": null,
      "metadata": {
        "id": "E4gU06fIOTrL"
      },
      "outputs": [],
      "source": [
        "#english stopwords\n",
        "stop_words = set(stopwords.words('english'))\n"
      ]
    },
    {
      "cell_type": "code",
      "execution_count": null,
      "metadata": {
        "id": "caPOGmbj1mwB"
      },
      "outputs": [],
      "source": [
        "!ls \"/content/drive/My Drive/Colab Notebooks/\"\n"
      ]
    },
    {
      "cell_type": "code",
      "execution_count": null,
      "metadata": {
        "id": "kOnxzwQVBMAX"
      },
      "outputs": [],
      "source": [
        "\n",
        "train_file = '/content/drive/My Drive/Colab Notebooks/train_data.csv'\n",
        "\n",
        "train_df = pd.read_csv(train_file)\n",
        "\n"
      ]
    },
    {
      "cell_type": "code",
      "execution_count": null,
      "metadata": {
        "id": "LCQQBQnCJlVC"
      },
      "outputs": [],
      "source": [
        "train_df.info()"
      ]
    },
    {
      "cell_type": "code",
      "execution_count": null,
      "metadata": {
        "id": "KWjQXLdOSGI4"
      },
      "outputs": [],
      "source": [
        "train_df.isnull().sum()"
      ]
    },
    {
      "cell_type": "code",
      "execution_count": null,
      "metadata": {
        "id": "i8rP6R2tSwDO"
      },
      "outputs": [],
      "source": [
        "#first the train dataset should be cleaned\n",
        "#the first step: lower case everything and converting everything in the review column into strings\n",
        "train_df[\"Review\"]=train_df[\"Review\"].str.lower()"
      ]
    },
    {
      "cell_type": "code",
      "execution_count": null,
      "metadata": {
        "id": "xquiBJ-iSxkH"
      },
      "outputs": [],
      "source": [
        "train_df[\"Review\"].head()"
      ]
    },
    {
      "cell_type": "code",
      "execution_count": null,
      "metadata": {
        "id": "yXKyBj9waF6o"
      },
      "outputs": [],
      "source": [
        "#there might be duplicates in the train data that need to be handled\n",
        "train_duplicates = train_df.duplicated(subset=['Review']).sum()\n",
        "\n"
      ]
    },
    {
      "cell_type": "code",
      "execution_count": null,
      "metadata": {
        "id": "-ClGHjULc3r0"
      },
      "outputs": [],
      "source": [
        "print(train_duplicates)"
      ]
    },
    {
      "cell_type": "code",
      "execution_count": null,
      "metadata": {
        "id": "r1G_LVkO8urI"
      },
      "outputs": [],
      "source": [
        "#to eliminate the duplicates and just keep the first one\n",
        "train_df = train_df.drop_duplicates(subset=['Review'], keep='first').reset_index(drop=True)\n"
      ]
    },
    {
      "cell_type": "code",
      "execution_count": null,
      "metadata": {
        "id": "_nmCeyloQZ_o"
      },
      "outputs": [],
      "source": [
        "train_df[\"Label\"].value_counts()"
      ]
    },
    {
      "cell_type": "code",
      "execution_count": null,
      "metadata": {
        "id": "R2nM5zD29vkJ"
      },
      "outputs": [],
      "source": [
        "#for the rest, a function would help, the function should do everything\n",
        "def preprocess_text(text):\n",
        "      text = re.sub(r'[^a-z\\s]', '', text)      #to remove whatever that is not strings from a to z, however, keeps the spaces\n",
        "      text = text.translate(str.maketrans('', '', string.punctuation))   #to remove punctuationa\n",
        "      text = ' '.join(word for word in text.split() if word not in stop_words)  #to remove the stopwords\n",
        "      text = re.sub(r'\\s+', ' ', text).strip()      #to remove extra whitespace\n",
        "      #remove HTML\n",
        "      text=re.sub(r'<.*?>', '', text)\n",
        "      #remove URLs\n",
        "      text = re.sub(r'http[s]?://\\S+|www\\.\\S+', '', text)\n",
        "      #remove tags\n",
        "      text=re.sub(r'#\\S+','',text)\n",
        "\n",
        "      return text\n"
      ]
    },
    {
      "cell_type": "code",
      "execution_count": null,
      "metadata": {
        "id": "Se1beDcopoTd"
      },
      "outputs": [],
      "source": [
        "#the following adds a new column containing the clean reviews to our dataframe\n",
        "train_df[\"clean_review\"]=train_df[\"Review\"].apply(preprocess_text)"
      ]
    },
    {
      "cell_type": "code",
      "execution_count": null,
      "metadata": {
        "id": "smcO1uEUf4cs"
      },
      "outputs": [],
      "source": [
        "train_df.columns"
      ]
    },
    {
      "cell_type": "code",
      "execution_count": null,
      "metadata": {
        "id": "TDAE1mAErsmq"
      },
      "outputs": [],
      "source": [
        "train_df.head()"
      ]
    },
    {
      "cell_type": "code",
      "execution_count": null,
      "metadata": {
        "id": "4uWjYE9zmcgW"
      },
      "outputs": [],
      "source": [
        "#since some project have also eliminated frequent words, it is better to find the 10 most frequent words in the train_df\n",
        "#and then decide whether they need to remain or be eliminated\n",
        "cnt=Counter()\n",
        "for text in train_df[\"clean_review\"].values:\n",
        "  for word in text.split():\n",
        "    cnt[word]+=1\n",
        "\n",
        "cnt.most_common(10)"
      ]
    },
    {
      "cell_type": "code",
      "execution_count": null,
      "metadata": {
        "id": "gKErgm2srBMX"
      },
      "outputs": [],
      "source": [
        "#some words have nothing to do with sentiment analysis and can be removed\n",
        "custom_stopwords={'book', 'one', 'would', 'get', 'read', 'time'}\n",
        "stop_words.update(custom_stopwords)"
      ]
    },
    {
      "cell_type": "code",
      "execution_count": null,
      "metadata": {
        "id": "8ieypsVIOndc"
      },
      "outputs": [],
      "source": [
        "#let us save the file as a csv\n",
        "train_df.to_csv( \"/content/drive/My Drive/Colab Notebooks/clean_review_train.csv\", index=False)\n"
      ]
    },
    {
      "cell_type": "code",
      "execution_count": null,
      "metadata": {
        "id": "HkR2j2bM-ccD"
      },
      "outputs": [],
      "source": [
        "!ls \"/content/drive/My Drive/Colab Notebooks/\"\n"
      ]
    },
    {
      "cell_type": "code",
      "execution_count": null,
      "metadata": {
        "id": "chdnHByNj7jL"
      },
      "outputs": [],
      "source": [
        "#to check the clean_review_train, it is better that it gets reloaded into a dataframe\n",
        "\n",
        "clean_train = pd.read_csv(\"/content/drive/My Drive/Colab Notebooks/clean_review_train.csv\")\n",
        "\n",
        "print(clean_train.head())\n"
      ]
    },
    {
      "cell_type": "code",
      "execution_count": null,
      "metadata": {
        "id": "IAH2UTFptpO9"
      },
      "outputs": [],
      "source": [
        "#the next step is tokenizing the text, the function below will do that\n",
        "def tokenize_text(text):\n",
        "  return word_tokenize(text)"
      ]
    },
    {
      "cell_type": "code",
      "execution_count": null,
      "metadata": {
        "id": "3xZGhIlcJbhV"
      },
      "outputs": [],
      "source": [
        "clean_train[\"clean_review\"]=clean_train[\"clean_review\"].astype(str)"
      ]
    },
    {
      "cell_type": "markdown",
      "source": [],
      "metadata": {
        "id": "mtQVvP8hqtvU"
      }
    },
    {
      "cell_type": "code",
      "execution_count": null,
      "metadata": {
        "id": "Jj6IRXsluJgp"
      },
      "outputs": [],
      "source": [
        "#the size of the data is too large that is why it needs to be tokenized it in chunks\n",
        "chunk_size = 5000\n",
        "\n"
      ]
    },
    {
      "cell_type": "code",
      "execution_count": null,
      "metadata": {
        "id": "CcpxxE_5RsT4"
      },
      "outputs": [],
      "source": [
        "#it was impossible to do the tokenizytion due to RAM and the session would result in crashes so the dataframe had to\n",
        "#turn into dask dataframes\n",
        "\n",
        "# changing into a dask dataframe\n",
        "ddf = dd.from_pandas(clean_train, npartitions=len(clean_train) // chunk_size)\n"
      ]
    },
    {
      "cell_type": "code",
      "execution_count": null,
      "metadata": {
        "id": "90bznVwnTdKh"
      },
      "outputs": [],
      "source": [
        "print(ddf.head())\n",
        "print(ddf.npartitions)  # Verify number of partitions which is 719\n"
      ]
    },
    {
      "cell_type": "code",
      "execution_count": null,
      "metadata": {
        "id": "ykmFeV4nTmPb"
      },
      "outputs": [],
      "source": [
        "# tokenization to each partition\n",
        "ddf[\"tokenized\"] = ddf[\"clean_review\"].map(tokenize_text, meta=('clean_review', 'object'))\n"
      ]
    },
    {
      "cell_type": "code",
      "execution_count": null,
      "metadata": {
        "id": "FtQi-I_CUBAP"
      },
      "outputs": [],
      "source": [
        "print(ddf.head())\n",
        "print(f\"Number of rows: {len(ddf)}\")\n",
        "\n"
      ]
    },
    {
      "cell_type": "code",
      "execution_count": null,
      "metadata": {
        "id": "wrw9PdbCUMC3"
      },
      "outputs": [],
      "source": [
        "# Save the result directly to multiple CSV files, so we will have 719 CSV files\n",
        "ddf.to_csv(\"processed_data_*.csv\", index=False)\n"
      ]
    },
    {
      "cell_type": "code",
      "execution_count": null,
      "metadata": {
        "id": "bIJlX8U-szXf"
      },
      "outputs": [],
      "source": [
        "\n",
        "input_path = \"/content/drive/MyDrive/Colab Notebooks/tokenized_data/\"\n",
        "output_path = \"/content/drive/MyDrive/Colab Notebooks/lemmatized_data/\"\n",
        "os.makedirs(output_path, exist_ok=True)"
      ]
    },
    {
      "cell_type": "code",
      "execution_count": null,
      "metadata": {
        "id": "GJhxwdSTdOC9"
      },
      "outputs": [],
      "source": [
        "#the part-of-speech tagging from the NLTK did not work on my system there was an error that could not be debugged\n",
        "lemmatizer = WordNetLemmatizer()\n",
        "\n",
        "def get_wordnet_pos(tag):\n",
        "    if tag.startswith('J'):\n",
        "        return wordnet.ADJ\n",
        "    elif tag.startswith('V'):\n",
        "        return wordnet.VERB\n",
        "    elif tag.startswith('N'):\n",
        "        return wordnet.NOUN\n",
        "    elif tag.startswith('R'):\n",
        "        return wordnet.ADV\n",
        "    else:\n",
        "        return wordnet.NOUN\n"
      ]
    },
    {
      "cell_type": "code",
      "execution_count": null,
      "metadata": {
        "id": "X-DDtTlYbBbX"
      },
      "outputs": [],
      "source": [
        "def lemmatize_tokens_with_pos(tokenized_text):\n",
        "\n",
        "    try:\n",
        "        # If tokenized_text is a stringified list, convert it to a list\n",
        "        if isinstance(tokenized_text, str):\n",
        "            tokens = ast.literal_eval(tokenized_text)\n",
        "        else:\n",
        "            tokens = tokenized_text\n",
        "\n",
        "        # Perform POS tagging\n",
        "        pos_tags = pos_tag(tokens)\n",
        "\n",
        "\n",
        "        lemmatized_tokens = [\n",
        "            lemmatizer.lemmatize(token, get_wordnet_pos(tag)) for token, tag in pos_tags\n",
        "        ]\n",
        "        return lemmatized_tokens\n",
        "    except Exception as e:\n",
        "        print(f\"Error in lemmatization: {e}\")\n",
        "        return []"
      ]
    },
    {
      "cell_type": "code",
      "execution_count": null,
      "metadata": {
        "id": "mt3nKZcItZek"
      },
      "outputs": [],
      "source": [
        "def process_large_file(input_file, output_file, chunk_size=5000):\n",
        "\n",
        "    try:\n",
        "\n",
        "        with pd.read_csv(input_file, chunksize=chunk_size) as reader:\n",
        "            for chunk_idx, chunk in enumerate(reader):\n",
        "                print(f\"Processing chunk {chunk_idx + 1} from file {input_file}...\")\n",
        "\n",
        "                chunk[\"lemmatized\"] = chunk[\"tokenized\"].apply(lemmatize_tokens_with_pos)\n",
        "\n",
        "                mode = \"w\" if chunk_idx == 0 else \"a\"\n",
        "                header = chunk_idx == 0\n",
        "                chunk.to_csv(output_file, mode=mode, header=header, index=False)\n",
        "                print(f\"Chunk {chunk_idx + 1} saved to {output_file}.\")\n",
        "    except Exception as e:\n",
        "        print(f\"Error processing file {input_file}: {e}\")\n"
      ]
    },
    {
      "cell_type": "code",
      "source": [
        "#from here, the code is not part of the main analysis, rather, the point is to check the result of the files\n",
        "#in both tokenized and lemmatized files\n",
        "\n",
        "\n",
        "print(os.getcwd())"
      ],
      "metadata": {
        "colab": {
          "base_uri": "https://localhost:8080/"
        },
        "id": "h-YAvkgDo9d_",
        "outputId": "8d5fb179-c304-4f22-c71b-45ab5fb52c1a"
      },
      "execution_count": null,
      "outputs": [
        {
          "output_type": "stream",
          "name": "stdout",
          "text": [
            "/content/drive/MyDrive/Colab Notebooks/tokenized_data\n"
          ]
        }
      ]
    },
    {
      "cell_type": "code",
      "source": [
        "os.chdir(\"/content/drive/MyDrive/Colab Notebooks/tokenized_data/\")"
      ],
      "metadata": {
        "id": "NWnyMddTpNDN"
      },
      "execution_count": null,
      "outputs": []
    },
    {
      "cell_type": "code",
      "source": [
        "#to see some lines of the tokenized train data\n",
        "print(token_train[\"tokenized\"].head(20))"
      ],
      "metadata": {
        "colab": {
          "base_uri": "https://localhost:8080/"
        },
        "id": "CmQ0MWjqsBBF",
        "outputId": "f44ab8c5-2ec5-43f0-8959-624917f69f99"
      },
      "execution_count": null,
      "outputs": [
        {
          "output_type": "stream",
          "name": "stdout",
          "text": [
            "0     ['twenty', 'thousand', 'really', 'disliked', '...\n",
            "1     ['twenty', 'thousand', 'leagues', 'sea', 'twen...\n",
            "2     ['fast', 'read', 'unique', 'lifetime', 'advent...\n",
            "3     ['horrible', 'narration', 'narrator', 'europea...\n",
            "4     ['buy', 'jerseyxray', 'paid', 'promptlyno', 'i...\n",
            "5     ['urk', 'okay', 'maybe', 'shouldnt', 'mean', '...\n",
            "6     ['twenty', 'thousand', 'leagues', 'sea', 'twen...\n",
            "7     ['know', 'classic', 'literacy', 'wiill', 'neve...\n",
            "8     ['trial', 'read', 'describe', 'much', 'enjoy',...\n",
            "9     ['personally', 'enjoyed', 'book', 'tremendousl...\n",
            "10    ['dull', 'story', 'agree', 'reviews', 'sense',...\n",
            "11    ['bad', 'printing', 'choices', 'commenting', '...\n",
            "12    ['like', 'book', 'book', 'leagues', 'sea', 're...\n",
            "13    ['classics', 'greatobviously', 'read', 'loud',...\n",
            "14    ['childrens', 'version', 'original', 'story', ...\n",
            "15    ['free', 'good', 'first', 'kindle', 'ebook', '...\n",
            "16    ['classic', 'novel', 'novel', 'fanciful', 'tal...\n",
            "17    ['causes', 'kindle', 'freeze', 'book', 'causes...\n",
            "18    ['beautiful', 'packaging', 'translation', 'ter...\n",
            "19    ['great', 'stuppendous', 'fantastic', 'book', ...\n",
            "Name: tokenized, dtype: object\n"
          ]
        }
      ]
    },
    {
      "cell_type": "code",
      "source": [
        "#now the lemmatize train data, a random file for example lemmatized_data_003 can be checked\n",
        "direct_path=\"/content/drive/MyDrive/Colab Notebooks/lemmatized_data\"\n",
        "file_check_2='/content/drive/MyDrive/Colab Notebooks/lemmatized_data/lemmatized_data_003.csv'\n",
        "\n",
        "os.makedirs(direct_path, exist_ok=True)\n",
        "\n",
        "\n",
        "try:\n",
        "  lemma_train=pd.read_csv(file_check_2)\n",
        "  print(\"columns in the file:\")\n",
        "  print(lemma_train.columns.tolist())\n",
        "except Exception as e:\n",
        "    print(f\"Error reading the file {file_check_2}: {e}\")\n"
      ],
      "metadata": {
        "colab": {
          "base_uri": "https://localhost:8080/"
        },
        "id": "pz_l5OAwteMH",
        "outputId": "2e5729f2-8b02-4a59-fbaf-fb2e59a57d1b"
      },
      "execution_count": null,
      "outputs": [
        {
          "output_type": "stream",
          "name": "stdout",
          "text": [
            "columns in the file:\n",
            "['Label', 'Review', 'clean_review', 'tokenized', 'lemmatized']\n"
          ]
        }
      ]
    },
    {
      "cell_type": "code",
      "source": [
        "lemma_train.head()"
      ],
      "metadata": {
        "colab": {
          "base_uri": "https://localhost:8080/",
          "height": 223
        },
        "id": "DIrmMULf_mGj",
        "outputId": "bfba9b7c-82e1-4bc3-b34e-dd6b7475d832"
      },
      "execution_count": null,
      "outputs": [
        {
          "output_type": "execute_result",
          "data": {
            "text/plain": [
              "   Label                                             Review  \\\n",
              "0      0  twenty thousand: i really disliked this book. ...   \n",
              "1      1  twenty thousand leagues under the sea: twenty ...   \n",
              "2      1  fast read of a unique lifetime adventure: if y...   \n",
              "3      0  horrible narration: the narrator should have a...   \n",
              "4      0  do not buy from \"jersey.xray\"....: i paid prom...   \n",
              "\n",
              "                                        clean_review  \\\n",
              "0  twenty thousand really disliked book think fac...   \n",
              "1  twenty thousand leagues sea twenty thousand le...   \n",
              "2  fast read unique lifetime adventure ever wonde...   \n",
              "3  horrible narration narrator european french ac...   \n",
              "4  buy jerseyxray paid promptlyno itemi wrote the...   \n",
              "\n",
              "                                           tokenized  \\\n",
              "0  ['twenty', 'thousand', 'really', 'disliked', '...   \n",
              "1  ['twenty', 'thousand', 'leagues', 'sea', 'twen...   \n",
              "2  ['fast', 'read', 'unique', 'lifetime', 'advent...   \n",
              "3  ['horrible', 'narration', 'narrator', 'europea...   \n",
              "4  ['buy', 'jerseyxray', 'paid', 'promptlyno', 'i...   \n",
              "\n",
              "                                          lemmatized  \n",
              "0  ['twenty', 'thousand', 'really', 'dislike', 'b...  \n",
              "1  ['twenty', 'thousand', 'league', 'sea', 'twent...  \n",
              "2  ['fast', 'read', 'unique', 'lifetime', 'advent...  \n",
              "3  ['horrible', 'narration', 'narrator', 'europea...  \n",
              "4  ['buy', 'jerseyxray', 'pay', 'promptlyno', 'it...  "
            ],
            "text/html": [
              "\n",
              "  <div id=\"df-0288afce-392b-41ac-8946-afe139eb528b\" class=\"colab-df-container\">\n",
              "    <div>\n",
              "<style scoped>\n",
              "    .dataframe tbody tr th:only-of-type {\n",
              "        vertical-align: middle;\n",
              "    }\n",
              "\n",
              "    .dataframe tbody tr th {\n",
              "        vertical-align: top;\n",
              "    }\n",
              "\n",
              "    .dataframe thead th {\n",
              "        text-align: right;\n",
              "    }\n",
              "</style>\n",
              "<table border=\"1\" class=\"dataframe\">\n",
              "  <thead>\n",
              "    <tr style=\"text-align: right;\">\n",
              "      <th></th>\n",
              "      <th>Label</th>\n",
              "      <th>Review</th>\n",
              "      <th>clean_review</th>\n",
              "      <th>tokenized</th>\n",
              "      <th>lemmatized</th>\n",
              "    </tr>\n",
              "  </thead>\n",
              "  <tbody>\n",
              "    <tr>\n",
              "      <th>0</th>\n",
              "      <td>0</td>\n",
              "      <td>twenty thousand: i really disliked this book. ...</td>\n",
              "      <td>twenty thousand really disliked book think fac...</td>\n",
              "      <td>['twenty', 'thousand', 'really', 'disliked', '...</td>\n",
              "      <td>['twenty', 'thousand', 'really', 'dislike', 'b...</td>\n",
              "    </tr>\n",
              "    <tr>\n",
              "      <th>1</th>\n",
              "      <td>1</td>\n",
              "      <td>twenty thousand leagues under the sea: twenty ...</td>\n",
              "      <td>twenty thousand leagues sea twenty thousand le...</td>\n",
              "      <td>['twenty', 'thousand', 'leagues', 'sea', 'twen...</td>\n",
              "      <td>['twenty', 'thousand', 'league', 'sea', 'twent...</td>\n",
              "    </tr>\n",
              "    <tr>\n",
              "      <th>2</th>\n",
              "      <td>1</td>\n",
              "      <td>fast read of a unique lifetime adventure: if y...</td>\n",
              "      <td>fast read unique lifetime adventure ever wonde...</td>\n",
              "      <td>['fast', 'read', 'unique', 'lifetime', 'advent...</td>\n",
              "      <td>['fast', 'read', 'unique', 'lifetime', 'advent...</td>\n",
              "    </tr>\n",
              "    <tr>\n",
              "      <th>3</th>\n",
              "      <td>0</td>\n",
              "      <td>horrible narration: the narrator should have a...</td>\n",
              "      <td>horrible narration narrator european french ac...</td>\n",
              "      <td>['horrible', 'narration', 'narrator', 'europea...</td>\n",
              "      <td>['horrible', 'narration', 'narrator', 'europea...</td>\n",
              "    </tr>\n",
              "    <tr>\n",
              "      <th>4</th>\n",
              "      <td>0</td>\n",
              "      <td>do not buy from \"jersey.xray\"....: i paid prom...</td>\n",
              "      <td>buy jerseyxray paid promptlyno itemi wrote the...</td>\n",
              "      <td>['buy', 'jerseyxray', 'paid', 'promptlyno', 'i...</td>\n",
              "      <td>['buy', 'jerseyxray', 'pay', 'promptlyno', 'it...</td>\n",
              "    </tr>\n",
              "  </tbody>\n",
              "</table>\n",
              "</div>\n",
              "    <div class=\"colab-df-buttons\">\n",
              "\n",
              "  <div class=\"colab-df-container\">\n",
              "    <button class=\"colab-df-convert\" onclick=\"convertToInteractive('df-0288afce-392b-41ac-8946-afe139eb528b')\"\n",
              "            title=\"Convert this dataframe to an interactive table.\"\n",
              "            style=\"display:none;\">\n",
              "\n",
              "  <svg xmlns=\"http://www.w3.org/2000/svg\" height=\"24px\" viewBox=\"0 -960 960 960\">\n",
              "    <path d=\"M120-120v-720h720v720H120Zm60-500h600v-160H180v160Zm220 220h160v-160H400v160Zm0 220h160v-160H400v160ZM180-400h160v-160H180v160Zm440 0h160v-160H620v160ZM180-180h160v-160H180v160Zm440 0h160v-160H620v160Z\"/>\n",
              "  </svg>\n",
              "    </button>\n",
              "\n",
              "  <style>\n",
              "    .colab-df-container {\n",
              "      display:flex;\n",
              "      gap: 12px;\n",
              "    }\n",
              "\n",
              "    .colab-df-convert {\n",
              "      background-color: #E8F0FE;\n",
              "      border: none;\n",
              "      border-radius: 50%;\n",
              "      cursor: pointer;\n",
              "      display: none;\n",
              "      fill: #1967D2;\n",
              "      height: 32px;\n",
              "      padding: 0 0 0 0;\n",
              "      width: 32px;\n",
              "    }\n",
              "\n",
              "    .colab-df-convert:hover {\n",
              "      background-color: #E2EBFA;\n",
              "      box-shadow: 0px 1px 2px rgba(60, 64, 67, 0.3), 0px 1px 3px 1px rgba(60, 64, 67, 0.15);\n",
              "      fill: #174EA6;\n",
              "    }\n",
              "\n",
              "    .colab-df-buttons div {\n",
              "      margin-bottom: 4px;\n",
              "    }\n",
              "\n",
              "    [theme=dark] .colab-df-convert {\n",
              "      background-color: #3B4455;\n",
              "      fill: #D2E3FC;\n",
              "    }\n",
              "\n",
              "    [theme=dark] .colab-df-convert:hover {\n",
              "      background-color: #434B5C;\n",
              "      box-shadow: 0px 1px 3px 1px rgba(0, 0, 0, 0.15);\n",
              "      filter: drop-shadow(0px 1px 2px rgba(0, 0, 0, 0.3));\n",
              "      fill: #FFFFFF;\n",
              "    }\n",
              "  </style>\n",
              "\n",
              "    <script>\n",
              "      const buttonEl =\n",
              "        document.querySelector('#df-0288afce-392b-41ac-8946-afe139eb528b button.colab-df-convert');\n",
              "      buttonEl.style.display =\n",
              "        google.colab.kernel.accessAllowed ? 'block' : 'none';\n",
              "\n",
              "      async function convertToInteractive(key) {\n",
              "        const element = document.querySelector('#df-0288afce-392b-41ac-8946-afe139eb528b');\n",
              "        const dataTable =\n",
              "          await google.colab.kernel.invokeFunction('convertToInteractive',\n",
              "                                                    [key], {});\n",
              "        if (!dataTable) return;\n",
              "\n",
              "        const docLinkHtml = 'Like what you see? Visit the ' +\n",
              "          '<a target=\"_blank\" href=https://colab.research.google.com/notebooks/data_table.ipynb>data table notebook</a>'\n",
              "          + ' to learn more about interactive tables.';\n",
              "        element.innerHTML = '';\n",
              "        dataTable['output_type'] = 'display_data';\n",
              "        await google.colab.output.renderOutput(dataTable, element);\n",
              "        const docLink = document.createElement('div');\n",
              "        docLink.innerHTML = docLinkHtml;\n",
              "        element.appendChild(docLink);\n",
              "      }\n",
              "    </script>\n",
              "  </div>\n",
              "\n",
              "\n",
              "<div id=\"df-de4760c8-f4e2-4e55-91c8-0df3ef4c3592\">\n",
              "  <button class=\"colab-df-quickchart\" onclick=\"quickchart('df-de4760c8-f4e2-4e55-91c8-0df3ef4c3592')\"\n",
              "            title=\"Suggest charts\"\n",
              "            style=\"display:none;\">\n",
              "\n",
              "<svg xmlns=\"http://www.w3.org/2000/svg\" height=\"24px\"viewBox=\"0 0 24 24\"\n",
              "     width=\"24px\">\n",
              "    <g>\n",
              "        <path d=\"M19 3H5c-1.1 0-2 .9-2 2v14c0 1.1.9 2 2 2h14c1.1 0 2-.9 2-2V5c0-1.1-.9-2-2-2zM9 17H7v-7h2v7zm4 0h-2V7h2v10zm4 0h-2v-4h2v4z\"/>\n",
              "    </g>\n",
              "</svg>\n",
              "  </button>\n",
              "\n",
              "<style>\n",
              "  .colab-df-quickchart {\n",
              "      --bg-color: #E8F0FE;\n",
              "      --fill-color: #1967D2;\n",
              "      --hover-bg-color: #E2EBFA;\n",
              "      --hover-fill-color: #174EA6;\n",
              "      --disabled-fill-color: #AAA;\n",
              "      --disabled-bg-color: #DDD;\n",
              "  }\n",
              "\n",
              "  [theme=dark] .colab-df-quickchart {\n",
              "      --bg-color: #3B4455;\n",
              "      --fill-color: #D2E3FC;\n",
              "      --hover-bg-color: #434B5C;\n",
              "      --hover-fill-color: #FFFFFF;\n",
              "      --disabled-bg-color: #3B4455;\n",
              "      --disabled-fill-color: #666;\n",
              "  }\n",
              "\n",
              "  .colab-df-quickchart {\n",
              "    background-color: var(--bg-color);\n",
              "    border: none;\n",
              "    border-radius: 50%;\n",
              "    cursor: pointer;\n",
              "    display: none;\n",
              "    fill: var(--fill-color);\n",
              "    height: 32px;\n",
              "    padding: 0;\n",
              "    width: 32px;\n",
              "  }\n",
              "\n",
              "  .colab-df-quickchart:hover {\n",
              "    background-color: var(--hover-bg-color);\n",
              "    box-shadow: 0 1px 2px rgba(60, 64, 67, 0.3), 0 1px 3px 1px rgba(60, 64, 67, 0.15);\n",
              "    fill: var(--button-hover-fill-color);\n",
              "  }\n",
              "\n",
              "  .colab-df-quickchart-complete:disabled,\n",
              "  .colab-df-quickchart-complete:disabled:hover {\n",
              "    background-color: var(--disabled-bg-color);\n",
              "    fill: var(--disabled-fill-color);\n",
              "    box-shadow: none;\n",
              "  }\n",
              "\n",
              "  .colab-df-spinner {\n",
              "    border: 2px solid var(--fill-color);\n",
              "    border-color: transparent;\n",
              "    border-bottom-color: var(--fill-color);\n",
              "    animation:\n",
              "      spin 1s steps(1) infinite;\n",
              "  }\n",
              "\n",
              "  @keyframes spin {\n",
              "    0% {\n",
              "      border-color: transparent;\n",
              "      border-bottom-color: var(--fill-color);\n",
              "      border-left-color: var(--fill-color);\n",
              "    }\n",
              "    20% {\n",
              "      border-color: transparent;\n",
              "      border-left-color: var(--fill-color);\n",
              "      border-top-color: var(--fill-color);\n",
              "    }\n",
              "    30% {\n",
              "      border-color: transparent;\n",
              "      border-left-color: var(--fill-color);\n",
              "      border-top-color: var(--fill-color);\n",
              "      border-right-color: var(--fill-color);\n",
              "    }\n",
              "    40% {\n",
              "      border-color: transparent;\n",
              "      border-right-color: var(--fill-color);\n",
              "      border-top-color: var(--fill-color);\n",
              "    }\n",
              "    60% {\n",
              "      border-color: transparent;\n",
              "      border-right-color: var(--fill-color);\n",
              "    }\n",
              "    80% {\n",
              "      border-color: transparent;\n",
              "      border-right-color: var(--fill-color);\n",
              "      border-bottom-color: var(--fill-color);\n",
              "    }\n",
              "    90% {\n",
              "      border-color: transparent;\n",
              "      border-bottom-color: var(--fill-color);\n",
              "    }\n",
              "  }\n",
              "</style>\n",
              "\n",
              "  <script>\n",
              "    async function quickchart(key) {\n",
              "      const quickchartButtonEl =\n",
              "        document.querySelector('#' + key + ' button');\n",
              "      quickchartButtonEl.disabled = true;  // To prevent multiple clicks.\n",
              "      quickchartButtonEl.classList.add('colab-df-spinner');\n",
              "      try {\n",
              "        const charts = await google.colab.kernel.invokeFunction(\n",
              "            'suggestCharts', [key], {});\n",
              "      } catch (error) {\n",
              "        console.error('Error during call to suggestCharts:', error);\n",
              "      }\n",
              "      quickchartButtonEl.classList.remove('colab-df-spinner');\n",
              "      quickchartButtonEl.classList.add('colab-df-quickchart-complete');\n",
              "    }\n",
              "    (() => {\n",
              "      let quickchartButtonEl =\n",
              "        document.querySelector('#df-de4760c8-f4e2-4e55-91c8-0df3ef4c3592 button');\n",
              "      quickchartButtonEl.style.display =\n",
              "        google.colab.kernel.accessAllowed ? 'block' : 'none';\n",
              "    })();\n",
              "  </script>\n",
              "</div>\n",
              "\n",
              "    </div>\n",
              "  </div>\n"
            ],
            "application/vnd.google.colaboratory.intrinsic+json": {
              "type": "dataframe",
              "variable_name": "lemma_train",
              "summary": "{\n  \"name\": \"lemma_train\",\n  \"rows\": 5007,\n  \"fields\": [\n    {\n      \"column\": \"Label\",\n      \"properties\": {\n        \"dtype\": \"number\",\n        \"std\": 0,\n        \"min\": 0,\n        \"max\": 1,\n        \"num_unique_values\": 2,\n        \"samples\": [\n          1,\n          0\n        ],\n        \"semantic_type\": \"\",\n        \"description\": \"\"\n      }\n    },\n    {\n      \"column\": \"Review\",\n      \"properties\": {\n        \"dtype\": \"string\",\n        \"num_unique_values\": 5007,\n        \"samples\": [\n          \"keanu reeves movies: i haven't had a chance to see the movie, i just collect things that look interesting and i have always enjoyed performances by keanu reeves, from the very silly excellent adventures to matrix to the evil prince in shakespeare.\",\n          \"oooofffaaah...: saw them live with dredg and they stunk up the joint...badly.don't compare them to tmv...no comparsion in any manner.\"\n        ],\n        \"semantic_type\": \"\",\n        \"description\": \"\"\n      }\n    },\n    {\n      \"column\": \"clean_review\",\n      \"properties\": {\n        \"dtype\": \"string\",\n        \"num_unique_values\": 5007,\n        \"samples\": [\n          \"keanu reeves movies havent chance see movie collect things look interesting always enjoyed performances keanu reeves silly excellent adventures matrix evil prince shakespeare\",\n          \"oooofffaaah saw live dredg stunk jointbadlydont compare tmvno comparsion manner\"\n        ],\n        \"semantic_type\": \"\",\n        \"description\": \"\"\n      }\n    },\n    {\n      \"column\": \"tokenized\",\n      \"properties\": {\n        \"dtype\": \"string\",\n        \"num_unique_values\": 5007,\n        \"samples\": [\n          \"['keanu', 'reeves', 'movies', 'havent', 'chance', 'see', 'movie', 'collect', 'things', 'look', 'interesting', 'always', 'enjoyed', 'performances', 'keanu', 'reeves', 'silly', 'excellent', 'adventures', 'matrix', 'evil', 'prince', 'shakespeare']\",\n          \"['oooofffaaah', 'saw', 'live', 'dredg', 'stunk', 'jointbadlydont', 'compare', 'tmvno', 'comparsion', 'manner']\"\n        ],\n        \"semantic_type\": \"\",\n        \"description\": \"\"\n      }\n    },\n    {\n      \"column\": \"lemmatized\",\n      \"properties\": {\n        \"dtype\": \"string\",\n        \"num_unique_values\": 5007,\n        \"samples\": [\n          \"['keanu', 'reeve', 'movie', 'have', 'not', 'chance', 'see', 'movie', 'collect', 'thing', 'look', 'interesting', 'always', 'enjoy', 'performance', 'keanu', 'reeve', 'silly', 'excellent', 'adventure', 'matrix', 'evil', 'prince', 'shakespeare']\",\n          \"['oooofffaaah', 'see', 'live', 'dredg', 'stunk', 'jointbadlydont', 'compare', 'tmvno', 'comparsion', 'manner']\"\n        ],\n        \"semantic_type\": \"\",\n        \"description\": \"\"\n      }\n    }\n  ]\n}"
            }
          },
          "metadata": {},
          "execution_count": 8
        }
      ]
    },
    {
      "cell_type": "code",
      "source": [
        "lemma_train.dtypes"
      ],
      "metadata": {
        "colab": {
          "base_uri": "https://localhost:8080/",
          "height": 241
        },
        "id": "tpe-yGypxbU8",
        "outputId": "840e2fec-7f55-4f88-c6b0-bd5be66aa835"
      },
      "execution_count": null,
      "outputs": [
        {
          "output_type": "execute_result",
          "data": {
            "text/plain": [
              "Label            int64\n",
              "Review          object\n",
              "clean_review    object\n",
              "tokenized       object\n",
              "lemmatized      object\n",
              "dtype: object"
            ],
            "text/html": [
              "<div>\n",
              "<style scoped>\n",
              "    .dataframe tbody tr th:only-of-type {\n",
              "        vertical-align: middle;\n",
              "    }\n",
              "\n",
              "    .dataframe tbody tr th {\n",
              "        vertical-align: top;\n",
              "    }\n",
              "\n",
              "    .dataframe thead th {\n",
              "        text-align: right;\n",
              "    }\n",
              "</style>\n",
              "<table border=\"1\" class=\"dataframe\">\n",
              "  <thead>\n",
              "    <tr style=\"text-align: right;\">\n",
              "      <th></th>\n",
              "      <th>0</th>\n",
              "    </tr>\n",
              "  </thead>\n",
              "  <tbody>\n",
              "    <tr>\n",
              "      <th>Label</th>\n",
              "      <td>int64</td>\n",
              "    </tr>\n",
              "    <tr>\n",
              "      <th>Review</th>\n",
              "      <td>object</td>\n",
              "    </tr>\n",
              "    <tr>\n",
              "      <th>clean_review</th>\n",
              "      <td>object</td>\n",
              "    </tr>\n",
              "    <tr>\n",
              "      <th>tokenized</th>\n",
              "      <td>object</td>\n",
              "    </tr>\n",
              "    <tr>\n",
              "      <th>lemmatized</th>\n",
              "      <td>object</td>\n",
              "    </tr>\n",
              "  </tbody>\n",
              "</table>\n",
              "</div><br><label><b>dtype:</b> object</label>"
            ]
          },
          "metadata": {},
          "execution_count": 32
        }
      ]
    },
    {
      "cell_type": "code",
      "source": [
        "\n",
        "\n",
        "folder_path = \"/content/drive/MyDrive/Colab Notebooks/lemmatized_data\" # Replace 'YourFolderName' with your folder's name\n",
        "\n",
        "output_file = \"/content/drive/MyDrive/Colab Notebooks/combined_lemmatized_traindata\"\n",
        "\n",
        "combined_data = pd.DataFrame()\n",
        "\n",
        "for filename in os.listdir(folder_path):\n",
        "    file_path = os.path.join(folder_path, filename)\n",
        "\n",
        "    if filename.endswith(\".csv\"):\n",
        "        data = pd.read_csv(file_path, usecols=['Label', 'lemmatized'])\n",
        "\n",
        "        combined_data = pd.concat([combined_data, data], ignore_index=True)\n",
        "\n",
        "combined_data.to_csv(output_file, index=False, header=True)\n",
        "print(f\"Combined file saved to: {output_file}\")\n"
      ],
      "metadata": {
        "colab": {
          "base_uri": "https://localhost:8080/"
        },
        "id": "sHf_Fh9IADeY",
        "outputId": "e5974893-4eb4-4e83-c52b-23b5ec57df59"
      },
      "execution_count": null,
      "outputs": [
        {
          "output_type": "stream",
          "name": "stdout",
          "text": [
            "Combined file saved to: /content/drive/MyDrive/Colab Notebooks/combined_lemmatized_traindata\n"
          ]
        }
      ]
    },
    {
      "cell_type": "code",
      "source": [
        "data.head()"
      ],
      "metadata": {
        "colab": {
          "base_uri": "https://localhost:8080/",
          "height": 206
        },
        "id": "AHv2eCl8H78B",
        "outputId": "eb4d4813-74a7-4ef8-a114-e80c46b154ff"
      },
      "execution_count": null,
      "outputs": [
        {
          "output_type": "execute_result",
          "data": {
            "text/plain": [
              "   Label                                         lemmatized\n",
              "0      0  ['comfort', 'crappy', 'quality', 'purchase', '...\n",
              "1      1  ['intex', 'supreme', 'airflow', 'queen', 'airb...\n",
              "2      0  ['extremely', 'disappointed', 'purchase', 'air...\n",
              "3      0  ['long', 'term', 'use', 'sleep', 'every', 'nig...\n",
              "4      1  ['good', 'value', 'great', 'bed', 'bed', 'comf..."
            ],
            "text/html": [
              "\n",
              "  <div id=\"df-65fdf30d-9dc0-4a90-8cbf-27cc81b1ee43\" class=\"colab-df-container\">\n",
              "    <div>\n",
              "<style scoped>\n",
              "    .dataframe tbody tr th:only-of-type {\n",
              "        vertical-align: middle;\n",
              "    }\n",
              "\n",
              "    .dataframe tbody tr th {\n",
              "        vertical-align: top;\n",
              "    }\n",
              "\n",
              "    .dataframe thead th {\n",
              "        text-align: right;\n",
              "    }\n",
              "</style>\n",
              "<table border=\"1\" class=\"dataframe\">\n",
              "  <thead>\n",
              "    <tr style=\"text-align: right;\">\n",
              "      <th></th>\n",
              "      <th>Label</th>\n",
              "      <th>lemmatized</th>\n",
              "    </tr>\n",
              "  </thead>\n",
              "  <tbody>\n",
              "    <tr>\n",
              "      <th>0</th>\n",
              "      <td>0</td>\n",
              "      <td>['comfort', 'crappy', 'quality', 'purchase', '...</td>\n",
              "    </tr>\n",
              "    <tr>\n",
              "      <th>1</th>\n",
              "      <td>1</td>\n",
              "      <td>['intex', 'supreme', 'airflow', 'queen', 'airb...</td>\n",
              "    </tr>\n",
              "    <tr>\n",
              "      <th>2</th>\n",
              "      <td>0</td>\n",
              "      <td>['extremely', 'disappointed', 'purchase', 'air...</td>\n",
              "    </tr>\n",
              "    <tr>\n",
              "      <th>3</th>\n",
              "      <td>0</td>\n",
              "      <td>['long', 'term', 'use', 'sleep', 'every', 'nig...</td>\n",
              "    </tr>\n",
              "    <tr>\n",
              "      <th>4</th>\n",
              "      <td>1</td>\n",
              "      <td>['good', 'value', 'great', 'bed', 'bed', 'comf...</td>\n",
              "    </tr>\n",
              "  </tbody>\n",
              "</table>\n",
              "</div>\n",
              "    <div class=\"colab-df-buttons\">\n",
              "\n",
              "  <div class=\"colab-df-container\">\n",
              "    <button class=\"colab-df-convert\" onclick=\"convertToInteractive('df-65fdf30d-9dc0-4a90-8cbf-27cc81b1ee43')\"\n",
              "            title=\"Convert this dataframe to an interactive table.\"\n",
              "            style=\"display:none;\">\n",
              "\n",
              "  <svg xmlns=\"http://www.w3.org/2000/svg\" height=\"24px\" viewBox=\"0 -960 960 960\">\n",
              "    <path d=\"M120-120v-720h720v720H120Zm60-500h600v-160H180v160Zm220 220h160v-160H400v160Zm0 220h160v-160H400v160ZM180-400h160v-160H180v160Zm440 0h160v-160H620v160ZM180-180h160v-160H180v160Zm440 0h160v-160H620v160Z\"/>\n",
              "  </svg>\n",
              "    </button>\n",
              "\n",
              "  <style>\n",
              "    .colab-df-container {\n",
              "      display:flex;\n",
              "      gap: 12px;\n",
              "    }\n",
              "\n",
              "    .colab-df-convert {\n",
              "      background-color: #E8F0FE;\n",
              "      border: none;\n",
              "      border-radius: 50%;\n",
              "      cursor: pointer;\n",
              "      display: none;\n",
              "      fill: #1967D2;\n",
              "      height: 32px;\n",
              "      padding: 0 0 0 0;\n",
              "      width: 32px;\n",
              "    }\n",
              "\n",
              "    .colab-df-convert:hover {\n",
              "      background-color: #E2EBFA;\n",
              "      box-shadow: 0px 1px 2px rgba(60, 64, 67, 0.3), 0px 1px 3px 1px rgba(60, 64, 67, 0.15);\n",
              "      fill: #174EA6;\n",
              "    }\n",
              "\n",
              "    .colab-df-buttons div {\n",
              "      margin-bottom: 4px;\n",
              "    }\n",
              "\n",
              "    [theme=dark] .colab-df-convert {\n",
              "      background-color: #3B4455;\n",
              "      fill: #D2E3FC;\n",
              "    }\n",
              "\n",
              "    [theme=dark] .colab-df-convert:hover {\n",
              "      background-color: #434B5C;\n",
              "      box-shadow: 0px 1px 3px 1px rgba(0, 0, 0, 0.15);\n",
              "      filter: drop-shadow(0px 1px 2px rgba(0, 0, 0, 0.3));\n",
              "      fill: #FFFFFF;\n",
              "    }\n",
              "  </style>\n",
              "\n",
              "    <script>\n",
              "      const buttonEl =\n",
              "        document.querySelector('#df-65fdf30d-9dc0-4a90-8cbf-27cc81b1ee43 button.colab-df-convert');\n",
              "      buttonEl.style.display =\n",
              "        google.colab.kernel.accessAllowed ? 'block' : 'none';\n",
              "\n",
              "      async function convertToInteractive(key) {\n",
              "        const element = document.querySelector('#df-65fdf30d-9dc0-4a90-8cbf-27cc81b1ee43');\n",
              "        const dataTable =\n",
              "          await google.colab.kernel.invokeFunction('convertToInteractive',\n",
              "                                                    [key], {});\n",
              "        if (!dataTable) return;\n",
              "\n",
              "        const docLinkHtml = 'Like what you see? Visit the ' +\n",
              "          '<a target=\"_blank\" href=https://colab.research.google.com/notebooks/data_table.ipynb>data table notebook</a>'\n",
              "          + ' to learn more about interactive tables.';\n",
              "        element.innerHTML = '';\n",
              "        dataTable['output_type'] = 'display_data';\n",
              "        await google.colab.output.renderOutput(dataTable, element);\n",
              "        const docLink = document.createElement('div');\n",
              "        docLink.innerHTML = docLinkHtml;\n",
              "        element.appendChild(docLink);\n",
              "      }\n",
              "    </script>\n",
              "  </div>\n",
              "\n",
              "\n",
              "<div id=\"df-35be389d-a297-4ed4-aebd-633679576252\">\n",
              "  <button class=\"colab-df-quickchart\" onclick=\"quickchart('df-35be389d-a297-4ed4-aebd-633679576252')\"\n",
              "            title=\"Suggest charts\"\n",
              "            style=\"display:none;\">\n",
              "\n",
              "<svg xmlns=\"http://www.w3.org/2000/svg\" height=\"24px\"viewBox=\"0 0 24 24\"\n",
              "     width=\"24px\">\n",
              "    <g>\n",
              "        <path d=\"M19 3H5c-1.1 0-2 .9-2 2v14c0 1.1.9 2 2 2h14c1.1 0 2-.9 2-2V5c0-1.1-.9-2-2-2zM9 17H7v-7h2v7zm4 0h-2V7h2v10zm4 0h-2v-4h2v4z\"/>\n",
              "    </g>\n",
              "</svg>\n",
              "  </button>\n",
              "\n",
              "<style>\n",
              "  .colab-df-quickchart {\n",
              "      --bg-color: #E8F0FE;\n",
              "      --fill-color: #1967D2;\n",
              "      --hover-bg-color: #E2EBFA;\n",
              "      --hover-fill-color: #174EA6;\n",
              "      --disabled-fill-color: #AAA;\n",
              "      --disabled-bg-color: #DDD;\n",
              "  }\n",
              "\n",
              "  [theme=dark] .colab-df-quickchart {\n",
              "      --bg-color: #3B4455;\n",
              "      --fill-color: #D2E3FC;\n",
              "      --hover-bg-color: #434B5C;\n",
              "      --hover-fill-color: #FFFFFF;\n",
              "      --disabled-bg-color: #3B4455;\n",
              "      --disabled-fill-color: #666;\n",
              "  }\n",
              "\n",
              "  .colab-df-quickchart {\n",
              "    background-color: var(--bg-color);\n",
              "    border: none;\n",
              "    border-radius: 50%;\n",
              "    cursor: pointer;\n",
              "    display: none;\n",
              "    fill: var(--fill-color);\n",
              "    height: 32px;\n",
              "    padding: 0;\n",
              "    width: 32px;\n",
              "  }\n",
              "\n",
              "  .colab-df-quickchart:hover {\n",
              "    background-color: var(--hover-bg-color);\n",
              "    box-shadow: 0 1px 2px rgba(60, 64, 67, 0.3), 0 1px 3px 1px rgba(60, 64, 67, 0.15);\n",
              "    fill: var(--button-hover-fill-color);\n",
              "  }\n",
              "\n",
              "  .colab-df-quickchart-complete:disabled,\n",
              "  .colab-df-quickchart-complete:disabled:hover {\n",
              "    background-color: var(--disabled-bg-color);\n",
              "    fill: var(--disabled-fill-color);\n",
              "    box-shadow: none;\n",
              "  }\n",
              "\n",
              "  .colab-df-spinner {\n",
              "    border: 2px solid var(--fill-color);\n",
              "    border-color: transparent;\n",
              "    border-bottom-color: var(--fill-color);\n",
              "    animation:\n",
              "      spin 1s steps(1) infinite;\n",
              "  }\n",
              "\n",
              "  @keyframes spin {\n",
              "    0% {\n",
              "      border-color: transparent;\n",
              "      border-bottom-color: var(--fill-color);\n",
              "      border-left-color: var(--fill-color);\n",
              "    }\n",
              "    20% {\n",
              "      border-color: transparent;\n",
              "      border-left-color: var(--fill-color);\n",
              "      border-top-color: var(--fill-color);\n",
              "    }\n",
              "    30% {\n",
              "      border-color: transparent;\n",
              "      border-left-color: var(--fill-color);\n",
              "      border-top-color: var(--fill-color);\n",
              "      border-right-color: var(--fill-color);\n",
              "    }\n",
              "    40% {\n",
              "      border-color: transparent;\n",
              "      border-right-color: var(--fill-color);\n",
              "      border-top-color: var(--fill-color);\n",
              "    }\n",
              "    60% {\n",
              "      border-color: transparent;\n",
              "      border-right-color: var(--fill-color);\n",
              "    }\n",
              "    80% {\n",
              "      border-color: transparent;\n",
              "      border-right-color: var(--fill-color);\n",
              "      border-bottom-color: var(--fill-color);\n",
              "    }\n",
              "    90% {\n",
              "      border-color: transparent;\n",
              "      border-bottom-color: var(--fill-color);\n",
              "    }\n",
              "  }\n",
              "</style>\n",
              "\n",
              "  <script>\n",
              "    async function quickchart(key) {\n",
              "      const quickchartButtonEl =\n",
              "        document.querySelector('#' + key + ' button');\n",
              "      quickchartButtonEl.disabled = true;  // To prevent multiple clicks.\n",
              "      quickchartButtonEl.classList.add('colab-df-spinner');\n",
              "      try {\n",
              "        const charts = await google.colab.kernel.invokeFunction(\n",
              "            'suggestCharts', [key], {});\n",
              "      } catch (error) {\n",
              "        console.error('Error during call to suggestCharts:', error);\n",
              "      }\n",
              "      quickchartButtonEl.classList.remove('colab-df-spinner');\n",
              "      quickchartButtonEl.classList.add('colab-df-quickchart-complete');\n",
              "    }\n",
              "    (() => {\n",
              "      let quickchartButtonEl =\n",
              "        document.querySelector('#df-35be389d-a297-4ed4-aebd-633679576252 button');\n",
              "      quickchartButtonEl.style.display =\n",
              "        google.colab.kernel.accessAllowed ? 'block' : 'none';\n",
              "    })();\n",
              "  </script>\n",
              "</div>\n",
              "\n",
              "    </div>\n",
              "  </div>\n"
            ],
            "application/vnd.google.colaboratory.intrinsic+json": {
              "type": "dataframe",
              "variable_name": "data",
              "summary": "{\n  \"name\": \"data\",\n  \"rows\": 5006,\n  \"fields\": [\n    {\n      \"column\": \"Label\",\n      \"properties\": {\n        \"dtype\": \"number\",\n        \"std\": 0,\n        \"min\": 0,\n        \"max\": 1,\n        \"num_unique_values\": 2,\n        \"samples\": [\n          1,\n          0\n        ],\n        \"semantic_type\": \"\",\n        \"description\": \"\"\n      }\n    },\n    {\n      \"column\": \"lemmatized\",\n      \"properties\": {\n        \"dtype\": \"string\",\n        \"num_unique_values\": 5006,\n        \"samples\": [\n          \"['wow', 'far', 'good', 'album', 'think', 'main', 'project', 'maudlin', 'well', 'complex', 'prepare', 'blow', 'away', 'musical', 'masterpiece', 'understatement', 'talking', 'choir', 'eyerecommende', 'fan', 'neurosis', 'isis', 'postman', 'syndrome', 'grail', 'course', 'maudlin', 'well']\",\n          \"['short', 'suit', 'bag', 'look', 'great', 'well', 'make', 'short', 'men', 'suit', 'certainly', 'dress', 'inch', 'short', 'suit', 'bag', 'havethe', 'clothe', 'roll', 'wrinkle', 'hit', 'bttom', 'bag', 'nice', 'try', 'cigar']\"\n        ],\n        \"semantic_type\": \"\",\n        \"description\": \"\"\n      }\n    }\n  ]\n}"
            }
          },
          "metadata": {},
          "execution_count": 8
        }
      ]
    },
    {
      "cell_type": "code",
      "source": [
        "data.info()"
      ],
      "metadata": {
        "colab": {
          "base_uri": "https://localhost:8080/"
        },
        "id": "bC-U0iOVIZ0s",
        "outputId": "504c247a-ea94-4b97-80b4-1606b14493c4"
      },
      "execution_count": null,
      "outputs": [
        {
          "output_type": "stream",
          "name": "stdout",
          "text": [
            "<class 'pandas.core.frame.DataFrame'>\n",
            "RangeIndex: 5006 entries, 0 to 5005\n",
            "Data columns (total 2 columns):\n",
            " #   Column      Non-Null Count  Dtype \n",
            "---  ------      --------------  ----- \n",
            " 0   Label       5006 non-null   int64 \n",
            " 1   lemmatized  5006 non-null   object\n",
            "dtypes: int64(1), object(1)\n",
            "memory usage: 78.3+ KB\n"
          ]
        }
      ]
    },
    {
      "cell_type": "code",
      "source": [
        "data.isnull().sum()"
      ],
      "metadata": {
        "colab": {
          "base_uri": "https://localhost:8080/",
          "height": 146
        },
        "id": "KGgWkX3bIkqe",
        "outputId": "0097ce26-6e02-47a3-a7fa-09e341d055e3"
      },
      "execution_count": null,
      "outputs": [
        {
          "output_type": "execute_result",
          "data": {
            "text/plain": [
              "Label         0\n",
              "lemmatized    0\n",
              "dtype: int64"
            ],
            "text/html": [
              "<div>\n",
              "<style scoped>\n",
              "    .dataframe tbody tr th:only-of-type {\n",
              "        vertical-align: middle;\n",
              "    }\n",
              "\n",
              "    .dataframe tbody tr th {\n",
              "        vertical-align: top;\n",
              "    }\n",
              "\n",
              "    .dataframe thead th {\n",
              "        text-align: right;\n",
              "    }\n",
              "</style>\n",
              "<table border=\"1\" class=\"dataframe\">\n",
              "  <thead>\n",
              "    <tr style=\"text-align: right;\">\n",
              "      <th></th>\n",
              "      <th>0</th>\n",
              "    </tr>\n",
              "  </thead>\n",
              "  <tbody>\n",
              "    <tr>\n",
              "      <th>Label</th>\n",
              "      <td>0</td>\n",
              "    </tr>\n",
              "    <tr>\n",
              "      <th>lemmatized</th>\n",
              "      <td>0</td>\n",
              "    </tr>\n",
              "  </tbody>\n",
              "</table>\n",
              "</div><br><label><b>dtype:</b> int64</label>"
            ]
          },
          "metadata": {},
          "execution_count": 10
        }
      ]
    },
    {
      "cell_type": "code",
      "source": [
        "data['Label'].value_counts()"
      ],
      "metadata": {
        "colab": {
          "base_uri": "https://localhost:8080/",
          "height": 178
        },
        "id": "-5vQeXY8I0ui",
        "outputId": "03e2e2e5-ebc7-4859-9ed9-2b7cba21aeb1"
      },
      "execution_count": null,
      "outputs": [
        {
          "output_type": "execute_result",
          "data": {
            "text/plain": [
              "Label\n",
              "1    2519\n",
              "0    2487\n",
              "Name: count, dtype: int64"
            ],
            "text/html": [
              "<div>\n",
              "<style scoped>\n",
              "    .dataframe tbody tr th:only-of-type {\n",
              "        vertical-align: middle;\n",
              "    }\n",
              "\n",
              "    .dataframe tbody tr th {\n",
              "        vertical-align: top;\n",
              "    }\n",
              "\n",
              "    .dataframe thead th {\n",
              "        text-align: right;\n",
              "    }\n",
              "</style>\n",
              "<table border=\"1\" class=\"dataframe\">\n",
              "  <thead>\n",
              "    <tr style=\"text-align: right;\">\n",
              "      <th></th>\n",
              "      <th>count</th>\n",
              "    </tr>\n",
              "    <tr>\n",
              "      <th>Label</th>\n",
              "      <th></th>\n",
              "    </tr>\n",
              "  </thead>\n",
              "  <tbody>\n",
              "    <tr>\n",
              "      <th>1</th>\n",
              "      <td>2519</td>\n",
              "    </tr>\n",
              "    <tr>\n",
              "      <th>0</th>\n",
              "      <td>2487</td>\n",
              "    </tr>\n",
              "  </tbody>\n",
              "</table>\n",
              "</div><br><label><b>dtype:</b> int64</label>"
            ]
          },
          "metadata": {},
          "execution_count": 12
        }
      ]
    },
    {
      "cell_type": "code",
      "source": [
        "data.duplicated().sum()"
      ],
      "metadata": {
        "colab": {
          "base_uri": "https://localhost:8080/"
        },
        "id": "HhFzv187JKmh",
        "outputId": "20b1dd12-3582-4b43-ca5a-8b9709b1d00b"
      },
      "execution_count": null,
      "outputs": [
        {
          "output_type": "execute_result",
          "data": {
            "text/plain": [
              "0"
            ]
          },
          "metadata": {},
          "execution_count": 13
        }
      ]
    },
    {
      "cell_type": "code",
      "source": [
        "data."
      ],
      "metadata": {
        "id": "F9B0zoMWJOUy"
      },
      "execution_count": null,
      "outputs": []
    },
    {
      "cell_type": "markdown",
      "metadata": {
        "id": "C1wSeZYdk8pS"
      },
      "source": []
    }
  ],
  "metadata": {
    "colab": {
      "provenance": []
    },
    "kernelspec": {
      "display_name": "Python 3",
      "name": "python3"
    },
    "language_info": {
      "name": "python"
    }
  },
  "nbformat": 4,
  "nbformat_minor": 0
}